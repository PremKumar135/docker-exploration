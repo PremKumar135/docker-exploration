{
 "cells": [
  {
   "cell_type": "markdown",
   "metadata": {
    "id": "xsKu4qXwyyW5"
   },
   "source": [
    "# Student Feedback Analysis"
   ]
  },
  {
   "cell_type": "markdown",
   "metadata": {
    "id": "nAnyFQ2ayjvr"
   },
   "source": [
    "### Importing libraries"
   ]
  },
  {
   "cell_type": "code",
   "execution_count": 114,
   "metadata": {
    "id": "ysPXAR8iunQJ"
   },
   "outputs": [],
   "source": [
    "import numpy as np\n",
    "import pandas as pd\n",
    "import matplotlib.pyplot as plt\n",
    "%matplotlib inline\n",
    "import seaborn as sns\n",
    "import re\n",
    "import nltk\n",
    "import string\n",
    "from nltk.corpus import stopwords\n",
    "from nltk.tokenize import word_tokenize \n",
    "from nltk.stem import WordNetLemmatizer\n",
    "import warnings\n",
    "warnings.filterwarnings('ignore')"
   ]
  },
  {
   "cell_type": "markdown",
   "metadata": {
    "id": "EvlvnC7gu36T"
   },
   "source": [
    "### 1. Read the dataset"
   ]
  },
  {
   "cell_type": "code",
   "execution_count": 115,
   "metadata": {
    "colab": {
     "base_uri": "https://localhost:8080/",
     "height": 202
    },
    "id": "_KdvLDVru3DG",
    "outputId": "ee952bcf-578e-48ce-acb2-b90dcd62f626"
   },
   "outputs": [
    {
     "data": {
      "text/html": [
       "<div>\n",
       "<style scoped>\n",
       "    .dataframe tbody tr th:only-of-type {\n",
       "        vertical-align: middle;\n",
       "    }\n",
       "\n",
       "    .dataframe tbody tr th {\n",
       "        vertical-align: top;\n",
       "    }\n",
       "\n",
       "    .dataframe thead th {\n",
       "        text-align: right;\n",
       "    }\n",
       "</style>\n",
       "<table border=\"1\" class=\"dataframe\">\n",
       "  <thead>\n",
       "    <tr style=\"text-align: right;\">\n",
       "      <th></th>\n",
       "      <th>Review</th>\n",
       "      <th>Label</th>\n",
       "    </tr>\n",
       "  </thead>\n",
       "  <tbody>\n",
       "    <tr>\n",
       "      <th>0</th>\n",
       "      <td>kind of boring</td>\n",
       "      <td>0.0</td>\n",
       "    </tr>\n",
       "    <tr>\n",
       "      <th>1</th>\n",
       "      <td>not bad</td>\n",
       "      <td>1.0</td>\n",
       "    </tr>\n",
       "    <tr>\n",
       "      <th>2</th>\n",
       "      <td>excellent</td>\n",
       "      <td>1.0</td>\n",
       "    </tr>\n",
       "    <tr>\n",
       "      <th>3</th>\n",
       "      <td>good communication</td>\n",
       "      <td>1.0</td>\n",
       "    </tr>\n",
       "    <tr>\n",
       "      <th>4</th>\n",
       "      <td>good explanation</td>\n",
       "      <td>1.0</td>\n",
       "    </tr>\n",
       "  </tbody>\n",
       "</table>\n",
       "</div>"
      ],
      "text/plain": [
       "               Review  Label\n",
       "0      kind of boring    0.0\n",
       "1             not bad    1.0\n",
       "2          excellent     1.0\n",
       "3  good communication    1.0\n",
       "4    good explanation    1.0"
      ]
     },
     "execution_count": 115,
     "metadata": {
      "tags": []
     },
     "output_type": "execute_result"
    }
   ],
   "source": [
    "df = pd.read_csv('/content/Feedback.csv')\n",
    "df.head()"
   ]
  },
  {
   "cell_type": "markdown",
   "metadata": {
    "id": "itlVaU-VvCcK"
   },
   "source": [
    "### 2. Exploratory Data Analysis"
   ]
  },
  {
   "cell_type": "markdown",
   "metadata": {
    "id": "4vuKlIhsvuh8"
   },
   "source": [
    "#### 2.1 Count plot"
   ]
  },
  {
   "cell_type": "code",
   "execution_count": 116,
   "metadata": {
    "colab": {
     "base_uri": "https://localhost:8080/",
     "height": 297
    },
    "id": "eumZTQeFu_sI",
    "outputId": "bba36b49-4904-43e1-96b9-3b9c026036ad"
   },
   "outputs": [
    {
     "data": {
      "text/plain": [
       "<matplotlib.axes._subplots.AxesSubplot at 0x7fb3d69fbe50>"
      ]
     },
     "execution_count": 116,
     "metadata": {
      "tags": []
     },
     "output_type": "execute_result"
    },
    {
     "data": {
      "image/png": "[encoded data removed]",
      "text/plain": [
       "<Figure size 432x288 with 1 Axes>"
      ]
     },
     "metadata": {
      "needs_background": "light",
      "tags": []
     },
     "output_type": "display_data"
    }
   ],
   "source": [
    "sns.countplot(df['Label'])"
   ]
  },
  {
   "cell_type": "code",
   "execution_count": 117,
   "metadata": {
    "colab": {
     "base_uri": "https://localhost:8080/"
    },
    "id": "QsyVXxlsvQBg",
    "outputId": "d949117c-4c0d-4f48-9541-eac2e34465b5"
   },
   "outputs": [
    {
     "name": "stdout",
     "output_type": "stream",
     "text": [
      "INFO: the number of positive feedback: 532\n",
      "INFO: the number of negative feedback: 210\n"
     ]
    }
   ],
   "source": [
    "print('INFO: the number of positive feedback:',len(df[df['Label']==1]))\n",
    "print('INFO: the number of negative feedback:',len(df[df['Label']==0]))"
   ]
  },
  {
   "cell_type": "markdown",
   "metadata": {
    "id": "aIWTVIv9vxeu"
   },
   "source": [
    "#### 2.2 Pie Chart"
   ]
  },
  {
   "cell_type": "code",
   "execution_count": 118,
   "metadata": {
    "colab": {
     "base_uri": "https://localhost:8080/",
     "height": 248
    },
    "id": "cDuKt5hvvZfF",
    "outputId": "a19cb547-3d32-49f2-c05f-1246c9b69e53"
   },
   "outputs": [
    {
     "data": {
      "image/png": "[encoded data removed]",
      "text/plain": [
       "<Figure size 432x288 with 1 Axes>"
      ]
     },
     "metadata": {
      "tags": []
     },
     "output_type": "display_data"
    }
   ],
   "source": [
    "labels = ['Positive', 'Negative']\n",
    "plt.pie([len(df[df['Label']==1]), len(df[df['Label']==0])], labels=labels)\n",
    "plt.show()"
   ]
  },
  {
   "cell_type": "markdown",
   "metadata": {
    "id": "q3tapBFvwp_7"
   },
   "source": [
    "#### Note:\n",
    "- Since the number of positive feedback is more than negative feedback and the number of data is also less, our models may overfit and we can reduce it if we have balanced dataset"
   ]
  },
  {
   "cell_type": "markdown",
   "metadata": {
    "id": "YlOboi_Z1-1P"
   },
   "source": [
    "### 2.3 Remove Nan values"
   ]
  },
  {
   "cell_type": "code",
   "execution_count": 119,
   "metadata": {
    "colab": {
     "base_uri": "https://localhost:8080/"
    },
    "id": "3HEizS7C2BaQ",
    "outputId": "039764dc-63a9-45e3-e32c-769f8628e628"
   },
   "outputs": [
    {
     "data": {
      "text/plain": [
       "Review    4\n",
       "Label     4\n",
       "dtype: int64"
      ]
     },
     "execution_count": 119,
     "metadata": {
      "tags": []
     },
     "output_type": "execute_result"
    }
   ],
   "source": [
    "df.isna().sum()"
   ]
  },
  {
   "cell_type": "code",
   "execution_count": 120,
   "metadata": {
    "colab": {
     "base_uri": "https://localhost:8080/",
     "height": 202
    },
    "id": "YEMmui2f2GtH",
    "outputId": "e8c48ea0-40d1-4bef-b720-f549e6e2335e"
   },
   "outputs": [
    {
     "data": {
      "text/html": [
       "<div>\n",
       "<style scoped>\n",
       "    .dataframe tbody tr th:only-of-type {\n",
       "        vertical-align: middle;\n",
       "    }\n",
       "\n",
       "    .dataframe tbody tr th {\n",
       "        vertical-align: top;\n",
       "    }\n",
       "\n",
       "    .dataframe thead th {\n",
       "        text-align: right;\n",
       "    }\n",
       "</style>\n",
       "<table border=\"1\" class=\"dataframe\">\n",
       "  <thead>\n",
       "    <tr style=\"text-align: right;\">\n",
       "      <th></th>\n",
       "      <th>Review</th>\n",
       "      <th>Label</th>\n",
       "    </tr>\n",
       "  </thead>\n",
       "  <tbody>\n",
       "    <tr>\n",
       "      <th>571</th>\n",
       "      <td>content is sufficient for us</td>\n",
       "      <td>NaN</td>\n",
       "    </tr>\n",
       "    <tr>\n",
       "      <th>744</th>\n",
       "      <td>NaN</td>\n",
       "      <td>NaN</td>\n",
       "    </tr>\n",
       "    <tr>\n",
       "      <th>745</th>\n",
       "      <td>NaN</td>\n",
       "      <td>NaN</td>\n",
       "    </tr>\n",
       "    <tr>\n",
       "      <th>746</th>\n",
       "      <td>NaN</td>\n",
       "      <td>NaN</td>\n",
       "    </tr>\n",
       "    <tr>\n",
       "      <th>747</th>\n",
       "      <td>NaN</td>\n",
       "      <td>543.0</td>\n",
       "    </tr>\n",
       "  </tbody>\n",
       "</table>\n",
       "</div>"
      ],
      "text/plain": [
       "                           Review  Label\n",
       "571  content is sufficient for us    NaN\n",
       "744                           NaN    NaN\n",
       "745                           NaN    NaN\n",
       "746                           NaN    NaN\n",
       "747                           NaN  543.0"
      ]
     },
     "execution_count": 120,
     "metadata": {
      "tags": []
     },
     "output_type": "execute_result"
    }
   ],
   "source": [
    "df[pd.isnull(df).any(axis=1)]"
   ]
  },
  {
   "cell_type": "code",
   "execution_count": 121,
   "metadata": {
    "id": "fcxDLvFD7ElE"
   },
   "outputs": [],
   "source": [
    "df.dropna(inplace=True)"
   ]
  },
  {
   "cell_type": "code",
   "execution_count": 122,
   "metadata": {
    "colab": {
     "base_uri": "https://localhost:8080/"
    },
    "id": "qF_R4B1R7KkQ",
    "outputId": "ddef4937-8989-4b1a-a413-40cbd4aeed39"
   },
   "outputs": [
    {
     "data": {
      "text/plain": [
       "Review    0\n",
       "Label     0\n",
       "dtype: int64"
      ]
     },
     "execution_count": 122,
     "metadata": {
      "tags": []
     },
     "output_type": "execute_result"
    }
   ],
   "source": [
    "df.isna().sum()"
   ]
  },
  {
   "cell_type": "markdown",
   "metadata": {
    "id": "nuTUE5uzw8Cy"
   },
   "source": [
    "### 3.Preprocessing\n",
    "- lowercase the data\n",
    "- remove extra whitespaces\n",
    "- remove special characters (like punctuation, dollar symbol)\n",
    "- remove numbers\n",
    "- remove stopwords\n",
    "- lemmatize\n"
   ]
  },
  {
   "cell_type": "code",
   "execution_count": 123,
   "metadata": {
    "id": "ug6XAUdIv9Ik"
   },
   "outputs": [],
   "source": [
    "def preprocessing(text):\n",
    "    text = text.lower()   #lowercase string\n",
    "    text = text.strip()   #remove extra whitespaces\n",
    "    text = re.sub(r'[^\\w\\s]', '', text) #remove punc\n",
    "    text = re.sub(r'\\d+', '', text)  #remove the numbers\n",
    "    \n",
    "    # remove stopwords\n",
    "    stop_words = set(stopwords.words('english')) \n",
    "    word_tokens = word_tokenize(text)\n",
    "    filtered_sentence = [w for w in word_tokens if not w in stop_words]  \n",
    "    \n",
    "    #Lemmatization\n",
    "    lemmatizer = WordNetLemmatizer()\n",
    "    lemmas = [lemmatizer.lemmatize(word, pos ='v') for word in filtered_sentence]\n",
    "    return ' '.join(lemmas)"
   ]
  },
  {
   "cell_type": "code",
   "execution_count": 124,
   "metadata": {
    "colab": {
     "base_uri": "https://localhost:8080/"
    },
    "id": "u5qj7LiE0xZs",
    "outputId": "eff8b1f9-0fb5-4459-e665-8fa3cb507fd6"
   },
   "outputs": [
    {
     "name": "stdout",
     "output_type": "stream",
     "text": [
      "INFO: preprocessing Done\n"
     ]
    }
   ],
   "source": [
    "try:\n",
    "  for idx in df.index:\n",
    "    df['Review'][idx] = preprocessing(df['Review'][idx])\n",
    "except:\n",
    "  print(df['Review'][idx])\n",
    "\n",
    "print('INFO: preprocessing Done')"
   ]
  },
  {
   "cell_type": "markdown",
   "metadata": {
    "id": "NmbM_l0K8Atc"
   },
   "source": [
    "### 4. Split the dataset"
   ]
  },
  {
   "cell_type": "code",
   "execution_count": 125,
   "metadata": {
    "id": "IdS9h7FB8WFw"
   },
   "outputs": [],
   "source": [
    "X = df['Review']\n",
    "y = df['Label']"
   ]
  },
  {
   "cell_type": "code",
   "execution_count": 126,
   "metadata": {
    "id": "QHIPfgWj8GI7"
   },
   "outputs": [],
   "source": [
    "from sklearn.model_selection import train_test_split\n",
    "X_train, X_test, y_train, y_test = train_test_split( X, y, test_size=0.33, random_state=0)"
   ]
  },
  {
   "cell_type": "code",
   "execution_count": 127,
   "metadata": {
    "colab": {
     "base_uri": "https://localhost:8080/"
    },
    "id": "2huEG4_n8cWI",
    "outputId": "f1187c15-d9b9-4430-8067-e0208ccea2a8"
   },
   "outputs": [
    {
     "name": "stdout",
     "output_type": "stream",
     "text": [
      "(497,)\n",
      "(246,)\n",
      "(497,)\n",
      "(246,)\n"
     ]
    }
   ],
   "source": [
    "print(X_train.shape)\n",
    "print(X_test.shape)\n",
    "print(y_train.shape)\n",
    "print(y_test.shape)"
   ]
  },
  {
   "cell_type": "markdown",
   "metadata": {
    "id": "4bOJPlTh7qvm"
   },
   "source": [
    "### 4. Word Embedding"
   ]
  },
  {
   "cell_type": "code",
   "execution_count": 128,
   "metadata": {
    "id": "IC3b0I5h705p"
   },
   "outputs": [],
   "source": [
    "from sklearn.feature_extraction.text import TfidfVectorizer\n",
    "vectorizer = TfidfVectorizer()\n",
    "X_train = vectorizer.fit_transform(X_train)\n",
    "X_test = vectorizer.transform(X_test)"
   ]
  },
  {
   "cell_type": "code",
   "execution_count": 129,
   "metadata": {
    "colab": {
     "base_uri": "https://localhost:8080/"
    },
    "id": "LNGGtetM83to",
    "outputId": "cc15cf38-6175-4e4a-f381-fdeed298b773"
   },
   "outputs": [
    {
     "name": "stdout",
     "output_type": "stream",
     "text": [
      "(497, 460)\n",
      "(246, 460)\n"
     ]
    }
   ],
   "source": [
    "print(X_train.shape)\n",
    "print(X_test.shape)"
   ]
  },
  {
   "cell_type": "code",
   "execution_count": 130,
   "metadata": {
    "id": "8jwBC7w4CI8e"
   },
   "outputs": [],
   "source": [
    "import pickle\n",
    "with open('vec.pkl', 'wb') as f:\n",
    "  pickle.dump(vectorizer, f)"
   ]
  },
  {
   "cell_type": "markdown",
   "metadata": {
    "id": "m-DOQTAT9ET1"
   },
   "source": [
    "### 5. Modelling"
   ]
  },
  {
   "cell_type": "code",
   "execution_count": 131,
   "metadata": {
    "colab": {
     "base_uri": "https://localhost:8080/"
    },
    "id": "Jq8wSdLy88rw",
    "outputId": "c7204a5f-d5c2-4b67-caef-b9ef3b0d8a49"
   },
   "outputs": [
    {
     "name": "stdout",
     "output_type": "stream",
     "text": [
      "The training accuracy is: 0.9557344064386318\n"
     ]
    }
   ],
   "source": [
    "from sklearn.linear_model import LogisticRegression\n",
    "clf = LogisticRegression(random_state=0)\n",
    "clf.fit(X_train, y_train)\n",
    "print('The training accuracy is:', clf.score(X_train, y_train))"
   ]
  },
  {
   "cell_type": "markdown",
   "metadata": {
    "id": "bU3qqewU93fn"
   },
   "source": [
    "### 6. Hyperparameter Tuning"
   ]
  },
  {
   "cell_type": "code",
   "execution_count": 132,
   "metadata": {
    "id": "NLC9nYeP9lln"
   },
   "outputs": [],
   "source": [
    "from sklearn.model_selection import GridSearchCV\n",
    "penalty = ['l2']\n",
    "c_values = [100, 10, 1.0, 0.1, 0.01]\n",
    "grid = dict(penalty=penalty,C=c_values)\n",
    "grid_search = GridSearchCV(estimator=clf, param_grid=grid, n_jobs=-1, cv=10, scoring='accuracy',error_score=0)\n",
    "grid_result = grid_search.fit(X_train, y_train)"
   ]
  },
  {
   "cell_type": "code",
   "execution_count": 133,
   "metadata": {
    "colab": {
     "base_uri": "https://localhost:8080/"
    },
    "id": "hTGSXIO9-X9v",
    "outputId": "e545efe6-cb97-4c4d-cd89-5390d64e004d"
   },
   "outputs": [
    {
     "name": "stdout",
     "output_type": "stream",
     "text": [
      "Best: 0.830653 using {'C': 10, 'penalty': 'l2'}\n",
      "0.818531 (0.061520) with: {'C': 100, 'penalty': 'l2'}\n",
      "0.830653 (0.049027) with: {'C': 10, 'penalty': 'l2'}\n",
      "0.812571 (0.048871) with: {'C': 1.0, 'penalty': 'l2'}\n",
      "0.708245 (0.009828) with: {'C': 0.1, 'penalty': 'l2'}\n",
      "0.710286 (0.008685) with: {'C': 0.01, 'penalty': 'l2'}\n"
     ]
    }
   ],
   "source": [
    "# summarize results\n",
    "print(\"Best: %f using %s\" % (grid_result.best_score_, grid_result.best_params_))\n",
    "means = grid_result.cv_results_['mean_test_score']\n",
    "stds = grid_result.cv_results_['std_test_score']\n",
    "params = grid_result.cv_results_['params']\n",
    "for mean, stdev, param in zip(means, stds, params):\n",
    "    print(\"%f (%f) with: %r\" % (mean, stdev, param))"
   ]
  },
  {
   "cell_type": "markdown",
   "metadata": {
    "id": "028L7jPY_GhS"
   },
   "source": [
    "### Note: \n",
    "- From the hyperparameter tuning our best model is penalty 'l2' and C ='1.0'"
   ]
  },
  {
   "cell_type": "markdown",
   "metadata": {
    "id": "tOpmDSZt_SBH"
   },
   "source": [
    "### 7. Best Model"
   ]
  },
  {
   "cell_type": "code",
   "execution_count": 134,
   "metadata": {
    "id": "QQj5jMVM-dxe"
   },
   "outputs": [],
   "source": [
    "best_model = LogisticRegression(penalty='l2', C=1.0)\n",
    "best_model.fit(X_train, y_train)\n",
    "y_pred = best_model.predict(X_test)"
   ]
  },
  {
   "cell_type": "code",
   "execution_count": 135,
   "metadata": {
    "id": "szT7F4zaENPI"
   },
   "outputs": [],
   "source": [
    "with open('best_model_LR.pkl', 'wb') as f:\n",
    "  pickle.dump(best_model, f)"
   ]
  },
  {
   "cell_type": "markdown",
   "metadata": {
    "id": "0xeCo1lb_nh0"
   },
   "source": [
    "### 8. Metrics\n",
    "- Confusion Matrix"
   ]
  },
  {
   "cell_type": "code",
   "execution_count": 136,
   "metadata": {
    "colab": {
     "base_uri": "https://localhost:8080/",
     "height": 283
    },
    "id": "ScvwyEba_ko9",
    "outputId": "03d584c0-5e7b-4cdc-c2bb-0fc671484aba"
   },
   "outputs": [
    {
     "data": {
      "text/plain": [
       "<matplotlib.axes._subplots.AxesSubplot at 0x7fb3d68f9e10>"
      ]
     },
     "execution_count": 136,
     "metadata": {
      "tags": []
     },
     "output_type": "execute_result"
    },
    {
     "data": {
      "image/png": "[encoded data removed]",
      "text/plain": [
       "<Figure size 432x288 with 2 Axes>"
      ]
     },
     "metadata": {
      "needs_background": "light",
      "tags": []
     },
     "output_type": "display_data"
    }
   ],
   "source": [
    "from sklearn.metrics import confusion_matrix\n",
    "sns.heatmap(confusion_matrix(y_test, y_pred), annot=True, fmt='.5g')"
   ]
  },
  {
   "cell_type": "markdown",
   "metadata": {
    "id": "REjcCd-DANoj"
   },
   "source": [
    "### Note:\n",
    "- We can see that the number of positive result is correctly predicted for 167 data points and wrongly predicted for 12 data points\n",
    "- Similarly , the model correctly predicted 37 data points as negative 30 times incorrectly predicted as negative"
   ]
  },
  {
   "cell_type": "markdown",
   "metadata": {
    "id": "FzWdDw08AtQp"
   },
   "source": [
    "# Conclusion:\n",
    "- We can improve the model by:\n",
    "1. balancing the imbalanced dataset\n",
    "2. Trying out different machine learning models\n",
    "3. Other state of the art preprocessing\n",
    "4. Other Word Embeddings like : GloVe, Word2vec methods\n",
    "5. We can also use other metrics like Precision, Recall and F1 score for the metrics "
   ]
  },
  {
   "cell_type": "markdown",
   "metadata": {
    "id": "ua-JkdM9BWMk"
   },
   "source": [
    "### Final Code"
   ]
  },
  {
   "cell_type": "code",
   "execution_count": 137,
   "metadata": {
    "id": "s_BOEIY4_39E"
   },
   "outputs": [],
   "source": [
    "import numpy as np\n",
    "import pandas as pd\n",
    "import matplotlib.pyplot as plt\n",
    "%matplotlib inline\n",
    "import seaborn as sns\n",
    "import re\n",
    "import nltk\n",
    "import string\n",
    "from nltk.corpus import stopwords\n",
    "from nltk.tokenize import word_tokenize \n",
    "from nltk.stem import WordNetLemmatizer\n",
    "import warnings\n",
    "warnings.filterwarnings('ignore')\n",
    "import pickle\n",
    "from sklearn.linear_model import LogisticRegression\n",
    "\n",
    "#loading the best model\n",
    "with open('best_model_LR.pkl', 'rb') as f:\n",
    "  clf_LR = pickle.load(f)\n",
    "\n",
    "#loading the vectorizer\n",
    "with open('vec.pkl', 'rb') as f:\n",
    "    vectorizer = pickle.load(f)\n",
    "\n",
    "def preprocessing(text):\n",
    "    text = text.lower()   #lowercase string\n",
    "    text = text.strip()   #remove extra whitespaces\n",
    "    text = re.sub(r'[^\\w\\s]', '', text) #remove punc\n",
    "    text = re.sub(r'\\d+', '', text)  #remove the numbers\n",
    "    \n",
    "    # remove stopwords\n",
    "    stop_words = set(stopwords.words('english')) \n",
    "    word_tokens = word_tokenize(text)\n",
    "    filtered_sentence = [w for w in word_tokens if not w in stop_words]  \n",
    "    \n",
    "    #Lemmatization\n",
    "    lemmatizer = WordNetLemmatizer()\n",
    "    lemmas = [lemmatizer.lemmatize(word, pos ='v') for word in filtered_sentence]\n",
    "    return ' '.join(lemmas)\n",
    "\n",
    "def vectorization(text):\n",
    "  text = [text]\n",
    "  X = vectorizer.transform(text)\n",
    "  return X\n",
    "\n",
    "def best_model(vector):\n",
    "    result = clf_LR.predict(vector)\n",
    "    return result\n",
    "\n",
    "def prediction(text):\n",
    "    text = preprocessing(text)\n",
    "    X_vec = vectorization(text)\n",
    "    pred = best_model(X_vec)\n",
    "    return pred"
   ]
  },
  {
   "cell_type": "markdown",
   "metadata": {
    "id": "v5-FIYTyG2vd"
   },
   "source": [
    "# Predict with new data"
   ]
  },
  {
   "cell_type": "code",
   "execution_count": 139,
   "metadata": {
    "colab": {
     "base_uri": "https://localhost:8080/"
    },
    "id": "lHuJlEabDXNJ",
    "outputId": "39a96331-d306-4230-8c39-0040f3002efb"
   },
   "outputs": [
    {
     "data": {
      "text/plain": [
       "array([1.])"
      ]
     },
     "execution_count": 139,
     "metadata": {
      "tags": []
     },
     "output_type": "execute_result"
    }
   ],
   "source": [
    "prediction('The class is good')"
   ]
  },
  {
   "cell_type": "code",
   "execution_count": 140,
   "metadata": {
    "colab": {
     "base_uri": "https://localhost:8080/"
    },
    "id": "m-Cv0YIfG2NL",
    "outputId": "800a8425-3cac-4ae8-bc69-b70731f41460"
   },
   "outputs": [
    {
     "data": {
      "text/plain": [
       "array([0.])"
      ]
     },
     "execution_count": 140,
     "metadata": {
      "tags": []
     },
     "output_type": "execute_result"
    }
   ],
   "source": [
    "prediction('Poor class')"
   ]
  },
  {
   "cell_type": "code",
   "execution_count": null,
   "metadata": {
    "id": "eLXABIQhG6-o"
   },
   "outputs": [],
   "source": []
  }
 ],
 "metadata": {
  "colab": {
   "name": "Student_Feedback_Analysis.ipynb",
   "provenance": []
  },
  "kernelspec": {
   "display_name": "Python 3",
   "language": "python",
   "name": "python3"
  },
  "language_info": {
   "codemirror_mode": {
    "name": "ipython",
    "version": 3
   },
   "file_extension": ".py",
   "mimetype": "text/x-python",
   "name": "python",
   "nbconvert_exporter": "python",
   "pygments_lexer": "ipython3",
   "version": "3.7.10"
  }
 },
 "nbformat": 4,
 "nbformat_minor": 4
}
